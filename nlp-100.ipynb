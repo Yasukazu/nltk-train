{
 "cells": [
  {
   "cell_type": "markdown",
   "metadata": {},
   "source": [
    "### N-gram"
   ]
  },
  {
   "cell_type": "code",
   "execution_count": 7,
   "metadata": {},
   "outputs": [
    {
     "name": "stdout",
     "output_type": "stream",
     "text": [
      "[['I', 'am'], ['am', 'an'], ['an', 'NLPer']]\n"
     ]
    }
   ],
   "source": [
    "# n-gram\n",
    "def n_gram(n: int, src: list[str]):\n",
    "    ngram = []\n",
    "    for rg in range(0, len(src)):\n",
    "      pick = src[rg: rg + n]\n",
    "      if len(pick) < n:\n",
    "        break\n",
    "      ngram.append(pick)\n",
    "    return ngram\n",
    "given = \"I am an NLPer\".split()\n",
    "ngrm = n_gram(2, given)\n",
    "print(ngrm)"
   ]
  },
  {
   "cell_type": "code",
   "execution_count": 3,
   "metadata": {},
   "outputs": [
    {
     "name": "stdout",
     "output_type": "stream",
     "text": [
      "[]\n",
      "['am']\n",
      "['an']\n",
      "['NL', 'LP', 'Pe', 'er']\n"
     ]
    }
   ],
   "source": [
    "# char n-gram\n",
    "def wcngram(n: int, src: str):\n",
    "    pk = []\n",
    "    for n in range(len(src)):\n",
    "        sl = src[n: n + 2]\n",
    "        if len(sl) < 2:\n",
    "            break\n",
    "        pk.append(sl)\n",
    "    return pk\n",
    "given = \"I am an NLPer\".split()\n",
    "n = 2\n",
    "for w in given:\n",
    "    ngram = wcngram(2, w)\n",
    "    print(ngram)\n"
   ]
  },
  {
   "cell_type": "code",
   "execution_count": 28,
   "metadata": {},
   "outputs": [
    {
     "name": "stdout",
     "output_type": "stream",
     "text": [
      "Union(和集合/Union, (X | Y).keys()=dict_keys(['pa', 'ar', 'ra', 'ap', 'ad', 'di', 'is', 'se', 'ag', 'gr', 'ph'])\n",
      "Union(積集合/Intersection, intsect=['pa', 'ar', 'ra', 'ap']\n",
      "Differece/差集合, (set(X) - set(Y))={'ad', 'di', 'is', 'se'}\n"
     ]
    },
    {
     "data": {
      "text/plain": [
       "{'ag', 'gr', 'ph'}"
      ]
     },
     "execution_count": 28,
     "metadata": {},
     "output_type": "execute_result"
    }
   ],
   "source": [
    "# 06 Set\n",
    "def bigram(s: str):\n",
    "    return wcngram(2, s)\n",
    "prpr=[\"paraparaparadise\",\"paragraph\"]\n",
    "X, Y = ({p:None for p in bigram(pr)} for pr in prpr)\n",
    "from pprint import pp\n",
    "print(f\"Union(和集合/Union, {(X | Y).keys()=}\")\n",
    "intsect = [x for x in X.keys() if x in Y.keys()]\n",
    "print(f\"Union(積集合/Intersection, {intsect=}\")\n",
    "diff = set(X) - set(Y)\n",
    "print(f\"Differece/差集合, {(set(X) - set(Y))=}\")\n",
    "set(Y) - set(X)"
   ]
  },
  {
   "cell_type": "markdown",
   "metadata": {},
   "source": [
    "{{X}}"
   ]
  },
  {
   "cell_type": "code",
   "execution_count": 4,
   "metadata": {},
   "outputs": [
    {
     "data": {
      "text/plain": [
       "'12時の気温は22.4'"
      ]
     },
     "execution_count": 4,
     "metadata": {},
     "output_type": "execute_result"
    }
   ],
   "source": [
    "import nlp_100 as nlp1\n",
    "nlp1.zino(x=12,y=\"気温\", z=22.4)"
   ]
  },
  {
   "cell_type": "code",
   "execution_count": 6,
   "metadata": {},
   "outputs": [
    {
     "data": {
      "text/plain": [
       "['愛知県',\n",
       " '愛媛県',\n",
       " '岐阜県',\n",
       " '群馬県',\n",
       " '高知県',\n",
       " '埼玉県',\n",
       " '山形県',\n",
       " '山梨県',\n",
       " '静岡県',\n",
       " '千葉県',\n",
       " '大阪府',\n",
       " '和歌山県']"
      ]
     },
     "execution_count": 6,
     "metadata": {},
     "output_type": "execute_result"
    }
   ],
   "source": [
    "import sys\n",
    "sys.path.insert(0, 'nltk-train')\n",
    "sys.path\n",
    "import nlp_100_2 as nlp\n",
    "ht = nlp.HighTemp()\n",
    "#ht.line_count\n",
    "ht.get_col1_set()"
   ]
  },
  {
   "cell_type": "code",
   "execution_count": null,
   "metadata": {},
   "outputs": [
    {
     "data": {
      "text/plain": [
       "['nltk-train',\n",
       " '/home/codespace/.python/current/lib/python312.zip',\n",
       " '/home/codespace/.python/current/lib/python3.12',\n",
       " '/home/codespace/.python/current/lib/python3.12/lib-dynload',\n",
       " '',\n",
       " '/workspaces/nltk-train/.venv/lib/python3.12/site-packages']"
      ]
     },
     "execution_count": 6,
     "metadata": {},
     "output_type": "execute_result"
    }
   ],
   "source": [
    "import sys\n",
    "sys.path.insert(0, 'nltk-train')\n",
    "sys.path\n",
    "import pandas as pd\n",
    "import nlp_100_2 as nlp\n",
    "\n"
   ]
  },
  {
   "cell_type": "markdown",
   "metadata": {},
   "source": [
    "### Pandas DataFrame\n",
    " - [DataFrame](https://pandas.pydata.org/pandas-docs/stable/reference/api/pandas.DataFrame.html)\n",
    "    - [DataFrame.to_dict](https://pandas.pydata.org/pandas-docs/stable/reference/api/pandas.DataFrame.to_dict.html)\n",
    "    - [DataFrame.to_numpy](https://pandas.pydata.org/pandas-docs/stable/reference/api/pandas.DataFrame.to_numpy.html)\n",
    "    - [DataFrame.iloc](https://pandas.pydata.org/pandas-docs/stable/reference/api/pandas.DataFrame.iloc.html)\n",
    " - [DataFrame.shape](https://pandas.pydata.org/pandas-docs/stable/reference/api/pandas.DataFrame.shape.html)\n",
    "\n",
    " - How to pick up nth column from a DataFrame is:\n",
    "```python\n",
    "        df.iloc[:, n]   \n",
    "```\n",
    " - How to pick up nth row from a DataFrame is:\n",
    "```python\n",
    "        df.iloc[n, :]\n",
    "\n",
    "\n",
    "\n",
    "```python\n",
    "        assert df.shape[0] >= 2 and df.shape[1] >= 2\n",
    "        keys = df.iloc[:, 0].tolist()\n",
    "        values = df.iloc[:, 1].tolist()\n",
    "        zipped = zip(keys, values)\n",
    "        dic = dict(zipped)\n",
    "```\n"
   ]
  }
 ],
 "metadata": {
  "kernelspec": {
   "display_name": ".conda",
   "language": "python",
   "name": "python3"
  },
  "language_info": {
   "codemirror_mode": {
    "name": "ipython",
    "version": 3
   },
   "file_extension": ".py",
   "mimetype": "text/x-python",
   "name": "python",
   "nbconvert_exporter": "python",
   "pygments_lexer": "ipython3",
   "version": "3.11.11"
  }
 },
 "nbformat": 4,
 "nbformat_minor": 4
}
