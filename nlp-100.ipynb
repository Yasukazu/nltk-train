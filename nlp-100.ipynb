{
 "cells": [
  {
   "cell_type": "markdown",
   "metadata": {},
   "source": [
    "### N-gram"
   ]
  },
  {
   "cell_type": "code",
   "execution_count": 7,
   "metadata": {},
   "outputs": [
    {
     "name": "stdout",
     "output_type": "stream",
     "text": [
      "[['I', 'am'], ['am', 'an'], ['an', 'NLPer']]\n"
     ]
    }
   ],
   "source": [
    "# n-gram\n",
    "def n_gram(n: int, src: list[str]):\n",
    "    ngram = []\n",
    "    for rg in range(0, len(src)):\n",
    "      pick = src[rg: rg + n]\n",
    "      if len(pick) < n:\n",
    "        break\n",
    "      ngram.append(pick)\n",
    "    return ngram\n",
    "given = \"I am an NLPer\".split()\n",
    "ngrm = n_gram(2, given)\n",
    "print(ngrm)"
   ]
  },
  {
   "cell_type": "code",
   "execution_count": 3,
   "metadata": {},
   "outputs": [
    {
     "name": "stdout",
     "output_type": "stream",
     "text": [
      "[]\n",
      "['am']\n",
      "['an']\n",
      "['NL', 'LP', 'Pe', 'er']\n"
     ]
    }
   ],
   "source": [
    "# char n-gram\n",
    "def wcngram(n: int, src: str):\n",
    "    pk = []\n",
    "    for n in range(len(src)):\n",
    "        sl = src[n: n + 2]\n",
    "        if len(sl) < 2:\n",
    "            break\n",
    "        pk.append(sl)\n",
    "    return pk\n",
    "given = \"I am an NLPer\".split()\n",
    "n = 2\n",
    "for w in given:\n",
    "    ngram = wcngram(2, w)\n",
    "    print(ngram)\n"
   ]
  },
  {
   "cell_type": "code",
   "execution_count": 28,
   "metadata": {},
   "outputs": [
    {
     "name": "stdout",
     "output_type": "stream",
     "text": [
      "Union(和集合/Union, (X | Y).keys()=dict_keys(['pa', 'ar', 'ra', 'ap', 'ad', 'di', 'is', 'se', 'ag', 'gr', 'ph'])\n",
      "Union(積集合/Intersection, intsect=['pa', 'ar', 'ra', 'ap']\n",
      "Differece/差集合, (set(X) - set(Y))={'ad', 'di', 'is', 'se'}\n"
     ]
    },
    {
     "data": {
      "text/plain": [
       "{'ag', 'gr', 'ph'}"
      ]
     },
     "execution_count": 28,
     "metadata": {},
     "output_type": "execute_result"
    }
   ],
   "source": [
    "# 06 Set\n",
    "def bigram(s: str):\n",
    "    return wcngram(2, s)\n",
    "prpr=[\"paraparaparadise\",\"paragraph\"]\n",
    "X, Y = ({p:None for p in bigram(pr)} for pr in prpr)\n",
    "from pprint import pp\n",
    "print(f\"Union(和集合/Union, {(X | Y).keys()=}\")\n",
    "intsect = [x for x in X.keys() if x in Y.keys()]\n",
    "print(f\"Union(積集合/Intersection, {intsect=}\")\n",
    "diff = set(X) - set(Y)\n",
    "print(f\"Differece/差集合, {(set(X) - set(Y))=}\")\n",
    "set(Y) - set(X)"
   ]
  },
  {
   "cell_type": "markdown",
   "metadata": {},
   "source": [
    "{{X}}"
   ]
  },
  {
   "cell_type": "code",
   "execution_count": 4,
   "metadata": {},
   "outputs": [
    {
     "data": {
      "text/plain": [
       "'12時の気温は22.4'"
      ]
     },
     "execution_count": 4,
     "metadata": {},
     "output_type": "execute_result"
    }
   ],
   "source": [
    "import nlp_100 as nlp1\n",
    "nlp1.zino(x=12,y=\"気温\", z=22.4)"
   ]
  },
  {
   "cell_type": "code",
   "execution_count": null,
   "metadata": {},
   "outputs": [],
   "source": []
  },
  {
   "cell_type": "code",
   "execution_count": null,
   "metadata": {},
   "outputs": [],
   "source": []
  }
 ],
 "metadata": {
  "kernelspec": {
   "display_name": "Python 3 (Spyder)",
   "language": "python3",
   "name": "python3"
  },
  "language_info": {
   "codemirror_mode": {
    "name": "ipython",
    "version": 3
   },
   "file_extension": ".py",
   "mimetype": "text/x-python",
   "name": "python",
   "nbconvert_exporter": "python",
   "pygments_lexer": "ipython3",
   "version": "3.11.5"
  }
 },
 "nbformat": 4,
 "nbformat_minor": 4
}
