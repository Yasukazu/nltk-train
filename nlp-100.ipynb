{
 "cells": [
  {
   "cell_type": "markdown",
   "metadata": {},
   "source": [
    "### N-gram"
   ]
  },
  {
   "cell_type": "code",
   "execution_count": 7,
   "metadata": {},
   "outputs": [
    {
     "name": "stdout",
     "output_type": "stream",
     "text": [
      "[['I', 'am'], ['am', 'an'], ['an', 'NLPer']]\n"
     ]
    }
   ],
   "source": [
    "# n-gram\n",
    "def n_gram(n: int, src: list[str]):\n",
    "    ngram = []\n",
    "    for rg in range(0, len(src)):\n",
    "      pick = src[rg: rg + n]\n",
    "      if len(pick) < n:\n",
    "        break\n",
    "      ngram.append(pick)\n",
    "    return ngram\n",
    "given = \"I am an NLPer\".split()\n",
    "ngrm = n_gram(2, given)\n",
    "print(ngrm)"
   ]
  },
  {
   "cell_type": "code",
   "execution_count": 3,
   "metadata": {},
   "outputs": [
    {
     "name": "stdout",
     "output_type": "stream",
     "text": [
      "[]\n",
      "['am']\n",
      "['an']\n",
      "['NL', 'LP', 'Pe', 'er']\n"
     ]
    }
   ],
   "source": [
    "# char n-gram\n",
    "def wcngram(n: int, src: str):\n",
    "    pk = []\n",
    "    for n in range(len(src)):\n",
    "        sl = src[n: n + 2]\n",
    "        if len(sl) < 2:\n",
    "            break\n",
    "        pk.append(sl)\n",
    "    return pk\n",
    "given = \"I am an NLPer\".split()\n",
    "n = 2\n",
    "for w in given:\n",
    "    ngram = wcngram(2, w)\n",
    "    print(ngram)\n"
   ]
  },
  {
   "cell_type": "code",
   "execution_count": 28,
   "metadata": {},
   "outputs": [
    {
     "name": "stdout",
     "output_type": "stream",
     "text": [
      "Union(和集合/Union, (X | Y).keys()=dict_keys(['pa', 'ar', 'ra', 'ap', 'ad', 'di', 'is', 'se', 'ag', 'gr', 'ph'])\n",
      "Union(積集合/Intersection, intsect=['pa', 'ar', 'ra', 'ap']\n",
      "Differece/差集合, (set(X) - set(Y))={'ad', 'di', 'is', 'se'}\n"
     ]
    },
    {
     "data": {
      "text/plain": [
       "{'ag', 'gr', 'ph'}"
      ]
     },
     "execution_count": 28,
     "metadata": {},
     "output_type": "execute_result"
    }
   ],
   "source": [
    "# 06 Set\n",
    "def bigram(s: str):\n",
    "    return wcngram(2, s)\n",
    "prpr=[\"paraparaparadise\",\"paragraph\"]\n",
    "X, Y = ({p:None for p in bigram(pr)} for pr in prpr)\n",
    "from pprint import pp\n",
    "print(f\"Union(和集合/Union, {(X | Y).keys()=}\")\n",
    "intsect = [x for x in X.keys() if x in Y.keys()]\n",
    "print(f\"Union(積集合/Intersection, {intsect=}\")\n",
    "diff = set(X) - set(Y)\n",
    "print(f\"Differece/差集合, {(set(X) - set(Y))=}\")\n",
    "set(Y) - set(X)"
   ]
  },
  {
   "cell_type": "markdown",
   "metadata": {},
   "source": [
    "{{X}}"
   ]
  },
  {
   "cell_type": "code",
   "execution_count": 4,
   "metadata": {},
   "outputs": [
    {
     "data": {
      "text/plain": [
       "'12時の気温は22.4'"
      ]
     },
     "execution_count": 4,
     "metadata": {},
     "output_type": "execute_result"
    }
   ],
   "source": [
    "import nlp_100 as nlp1\n",
    "nlp1.zino(x=12,y=\"気温\", z=22.4)"
   ]
  },
  {
   "cell_type": "code",
   "execution_count": null,
   "metadata": {},
   "outputs": [
    {
     "ename": "KeyError",
     "evalue": "'気温'",
     "output_type": "error",
     "traceback": [
      "\u001b[31m---------------------------------------------------------------------------\u001b[39m",
      "\u001b[31mKeyError\u001b[39m                                  Traceback (most recent call last)",
      "\u001b[32m/tmp/ipykernel_23939/393932992.py\u001b[39m in \u001b[36m?\u001b[39m\u001b[34m()\u001b[39m\n\u001b[32m      2\u001b[39m sys.path.insert(\u001b[32m0\u001b[39m, \u001b[33m'nltk-train'\u001b[39m)\n\u001b[32m      3\u001b[39m sys.path\n\u001b[32m      4\u001b[39m \u001b[38;5;28;01mimport\u001b[39;00m nlp_100_2 \u001b[38;5;28;01mas\u001b[39;00m nlp\n\u001b[32m      5\u001b[39m ht = nlp.HighTemp()\n\u001b[32m----> \u001b[39m\u001b[32m6\u001b[39m ht.df.sort_values(by=\u001b[33m\"気温\"\u001b[39m, ascending=\u001b[38;5;28;01mFalse\u001b[39;00m)\n\u001b[32m      7\u001b[39m ht.df.head(\u001b[32m10\u001b[39m)\n\u001b[32m      8\u001b[39m \u001b[38;5;66;03m#ht.line_count\u001b[39;00m\n\u001b[32m      9\u001b[39m \u001b[38;5;66;03m#ht.get_col1_set()\u001b[39;00m\n",
      "\u001b[32m/workspaces/nltk-train/.conda/lib/python3.11/site-packages/pandas/core/frame.py\u001b[39m in \u001b[36m?\u001b[39m\u001b[34m(self, by, axis, ascending, inplace, kind, na_position, ignore_index, key)\u001b[39m\n\u001b[32m   7185\u001b[39m             )\n\u001b[32m   7186\u001b[39m         \u001b[38;5;28;01melif\u001b[39;00m len(by):\n\u001b[32m   7187\u001b[39m             \u001b[38;5;66;03m# len(by) == 1\u001b[39;00m\n\u001b[32m   7188\u001b[39m \n\u001b[32m-> \u001b[39m\u001b[32m7189\u001b[39m             k = self._get_label_or_level_values(by[\u001b[32m0\u001b[39m], axis=axis)\n\u001b[32m   7190\u001b[39m \n\u001b[32m   7191\u001b[39m             \u001b[38;5;66;03m# need to rewrap column in Series to apply key function\u001b[39;00m\n\u001b[32m   7192\u001b[39m             \u001b[38;5;28;01mif\u001b[39;00m key \u001b[38;5;28;01mis\u001b[39;00m \u001b[38;5;28;01mnot\u001b[39;00m \u001b[38;5;28;01mNone\u001b[39;00m:\n",
      "\u001b[32m/workspaces/nltk-train/.conda/lib/python3.11/site-packages/pandas/core/generic.py\u001b[39m in \u001b[36m?\u001b[39m\u001b[34m(self, key, axis)\u001b[39m\n\u001b[32m   1907\u001b[39m             values = self.xs(key, axis=other_axes[\u001b[32m0\u001b[39m])._values\n\u001b[32m   1908\u001b[39m         \u001b[38;5;28;01melif\u001b[39;00m self._is_level_reference(key, axis=axis):\n\u001b[32m   1909\u001b[39m             values = self.axes[axis].get_level_values(key)._values\n\u001b[32m   1910\u001b[39m         \u001b[38;5;28;01melse\u001b[39;00m:\n\u001b[32m-> \u001b[39m\u001b[32m1911\u001b[39m             \u001b[38;5;28;01mraise\u001b[39;00m KeyError(key)\n\u001b[32m   1912\u001b[39m \n\u001b[32m   1913\u001b[39m         \u001b[38;5;66;03m# Check for duplicates\u001b[39;00m\n\u001b[32m   1914\u001b[39m         \u001b[38;5;28;01mif\u001b[39;00m values.ndim > \u001b[32m1\u001b[39m:\n",
      "\u001b[31mKeyError\u001b[39m: '気温'"
     ]
    }
   ],
   "source": [
    "import sys\n",
    "sys.path.insert(0, 'nltk-train')\n",
    "sys.path\n",
    "import nlp_100_2 as nlp\n",
    "ht = nlp.HighTemp()\n",
    "ht.df.sort_values(by=\"temp\", ascending=False)\n",
    "ht.df.head(10)  \n",
    "#ht.line_count\n",
    "#ht.get_col1_set()"
   ]
  },
  {
   "cell_type": "code",
   "execution_count": null,
   "metadata": {},
   "outputs": [
    {
     "data": {
      "text/plain": [
       "['nltk-train',\n",
       " '/home/codespace/.python/current/lib/python312.zip',\n",
       " '/home/codespace/.python/current/lib/python3.12',\n",
       " '/home/codespace/.python/current/lib/python3.12/lib-dynload',\n",
       " '',\n",
       " '/workspaces/nltk-train/.venv/lib/python3.12/site-packages']"
      ]
     },
     "execution_count": 6,
     "metadata": {},
     "output_type": "execute_result"
    }
   ],
   "source": [
    "import sys\n",
    "sys.path.insert(0, 'nltk-train')\n",
    "sys.path\n",
    "import pandas as pd\n",
    "import nlp_100_2 as nlp\n",
    "\n"
   ]
  },
  {
   "cell_type": "markdown",
   "metadata": {},
   "source": [
    "### Pandas DataFrame\n",
    " - [DataFrame](https://pandas.pydata.org/pandas-docs/stable/reference/api/pandas.DataFrame.html)\n",
    "    - [DataFrame.to_dict](https://pandas.pydata.org/pandas-docs/stable/reference/api/pandas.DataFrame.to_dict.html)\n",
    "    - [DataFrame.to_numpy](https://pandas.pydata.org/pandas-docs/stable/reference/api/pandas.DataFrame.to_numpy.html)\n",
    "    - [DataFrame.iloc](https://pandas.pydata.org/pandas-docs/stable/reference/api/pandas.DataFrame.iloc.html)\n",
    " - [DataFrame.shape](https://pandas.pydata.org/pandas-docs/stable/reference/api/pandas.DataFrame.shape.html)\n",
    "\n",
    " - How to pick up nth column from a DataFrame is:\n",
    "```python\n",
    "        df.iloc[:, n]   \n",
    "```\n",
    " - How to pick up nth row from a DataFrame is:\n",
    "```python\n",
    "        df.iloc[n, :]\n",
    "\n",
    "\n",
    "\n",
    "```python\n",
    "        assert df.shape[0] >= 2 and df.shape[1] >= 2\n",
    "        keys = df.iloc[:, 0].tolist()\n",
    "        values = df.iloc[:, 1].tolist()\n",
    "        zipped = zip(keys, values)\n",
    "        dic = dict(zipped)\n",
    "```\n"
   ]
  }
 ],
 "metadata": {
  "kernelspec": {
   "display_name": ".conda",
   "language": "python",
   "name": "python3"
  },
  "language_info": {
   "codemirror_mode": {
    "name": "ipython",
    "version": 3
   },
   "file_extension": ".py",
   "mimetype": "text/x-python",
   "name": "python",
   "nbconvert_exporter": "python",
   "pygments_lexer": "ipython3",
   "version": "3.11.11"
  }
 },
 "nbformat": 4,
 "nbformat_minor": 4
}
